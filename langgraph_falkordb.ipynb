{
  "cells": [
    {
      "cell_type": "code",
      "execution_count": null,
      "metadata": {
        "colab": {
          "base_uri": "https://localhost:8080/"
        },
        "id": "2_tRC7CvVbT4",
        "outputId": "b5c06d21-5958-4bf6-a951-c656955a9ec4"
      },
      "outputs": [
        {
          "name": "stdout",
          "output_type": "stream",
          "text": [
            "Collecting udocker\n",
            "  Downloading udocker-1.3.17-py2.py3-none-any.whl.metadata (37 kB)\n",
            "Downloading udocker-1.3.17-py2.py3-none-any.whl (119 kB)\n",
            "\u001b[?25l   \u001b[90m━━━━━━━━━━━━━━━━━━━━━━━━━━━━━━━━━━━━━━━━\u001b[0m \u001b[32m0.0/119.6 kB\u001b[0m \u001b[31m?\u001b[0m eta \u001b[36m-:--:--\u001b[0m\r\u001b[2K   \u001b[90m━━━━━━━━━━━━━━━━━━━━━━━━━━━━━━━━━━━━━━━━\u001b[0m \u001b[32m119.6/119.6 kB\u001b[0m \u001b[31m9.4 MB/s\u001b[0m eta \u001b[36m0:00:00\u001b[0m\n",
            "\u001b[?25hInstalling collected packages: udocker\n",
            "Successfully installed udocker-1.3.17\n",
            "Info: creating repo: /root/.udocker\n",
            "Info: udocker command line interface 1.3.17\n",
            "Info: searching for udockertools >= 1.2.11\n",
            "Info: installing udockertools 1.2.11\n",
            "Info: installation of udockertools successful\n"
          ]
        }
      ],
      "source": [
        "!pip install udocker\n",
        "!udocker --allow-root install"
      ]
    },
    {
      "cell_type": "code",
      "execution_count": null,
      "metadata": {
        "id": "iFQfKRc7v883"
      },
      "outputs": [],
      "source": [
        "import subprocess\n",
        "\n",
        "command = \"udocker --allow-root install && udocker --allow-root run -p 6379:6379 -i -t --rm falkordb/falkordb:edge\"\n",
        "process = subprocess.Popen(command, shell=True, stdout=subprocess.PIPE, stderr=subprocess.PIPE)"
      ]
    },
    {
      "cell_type": "code",
      "execution_count": null,
      "metadata": {
        "colab": {
          "base_uri": "https://localhost:8080/"
        },
        "collapsed": true,
        "id": "CvasPeunXhIe",
        "outputId": "903eed8c-a146-40ca-e941-305c0ea9f841"
      },
      "outputs": [
        {
          "name": "stdout",
          "output_type": "stream",
          "text": [
            "\u001b[?25l   \u001b[90m━━━━━━━━━━━━━━━━━━━━━━━━━━━━━━━━━━━━━━━━\u001b[0m \u001b[32m0.0/50.4 kB\u001b[0m \u001b[31m?\u001b[0m eta \u001b[36m-:--:--\u001b[0m\r\u001b[2K   \u001b[90m━━━━━━━━━━━━━━━━━━━━━━━━━━━━━━━━━━━━━━━━\u001b[0m \u001b[32m50.4/50.4 kB\u001b[0m \u001b[31m2.2 MB/s\u001b[0m eta \u001b[36m0:00:00\u001b[0m\n",
            "\u001b[?25h\u001b[?25l   \u001b[90m━━━━━━━━━━━━━━━━━━━━━━━━━━━━━━━━━━━━━━━━\u001b[0m \u001b[32m0.0/125.1 kB\u001b[0m \u001b[31m?\u001b[0m eta \u001b[36m-:--:--\u001b[0m\r\u001b[2K   \u001b[90m━━━━━━━━━━━━━━━━━━━━━━━━━━━━━━━━━━━━━━━━\u001b[0m \u001b[32m125.1/125.1 kB\u001b[0m \u001b[31m9.4 MB/s\u001b[0m eta \u001b[36m0:00:00\u001b[0m\n",
            "\u001b[?25h\u001b[?25l   \u001b[90m━━━━━━━━━━━━━━━━━━━━━━━━━━━━━━━━━━━━━━━━\u001b[0m \u001b[32m0.0/108.9 kB\u001b[0m \u001b[31m?\u001b[0m eta \u001b[36m-:--:--\u001b[0m\r\u001b[2K   \u001b[90m━━━━━━━━━━━━━━━━━━━━━━━━━━━━━━━━━━━━━━━━\u001b[0m \u001b[32m108.9/108.9 kB\u001b[0m \u001b[31m7.8 MB/s\u001b[0m eta \u001b[36m0:00:00\u001b[0m\n",
            "\u001b[?25h\u001b[?25l   \u001b[90m━━━━━━━━━━━━━━━━━━━━━━━━━━━━━━━━━━━━━━━━\u001b[0m \u001b[32m0.0/1.2 MB\u001b[0m \u001b[31m?\u001b[0m eta \u001b[36m-:--:--\u001b[0m\r\u001b[2K   \u001b[90m━━━━━━━━━━━━━━━━━━━━━━━━━━━━━━━━━━━━━━━━\u001b[0m \u001b[32m1.2/1.2 MB\u001b[0m \u001b[31m42.7 MB/s\u001b[0m eta \u001b[36m0:00:00\u001b[0m\n",
            "\u001b[?25h"
          ]
        }
      ],
      "source": [
        "!pip install --quiet langchain langchain_groq langchain_community langsmith langchain-openai langchain-groq langchain-experimental langgraph"
      ]
    },
    {
      "cell_type": "code",
      "execution_count": null,
      "metadata": {
        "colab": {
          "base_uri": "https://localhost:8080/"
        },
        "collapsed": true,
        "id": "kESXfYEOwVsf",
        "outputId": "7ac5d4a9-c8b6-4b76-c094-9b77d2f701b4"
      },
      "outputs": [
        {
          "name": "stdout",
          "output_type": "stream",
          "text": [
            "  Installing build dependencies ... \u001b[?25l\u001b[?25hdone\n",
            "  Getting requirements to build wheel ... \u001b[?25l\u001b[?25hdone\n",
            "  Preparing metadata (pyproject.toml) ... \u001b[?25l\u001b[?25hdone\n",
            "\u001b[2K   \u001b[90m━━━━━━━━━━━━━━━━━━━━━━━━━━━━━━━━━━━━━━━━\u001b[0m \u001b[32m261.4/261.4 kB\u001b[0m \u001b[31m15.3 MB/s\u001b[0m eta \u001b[36m0:00:00\u001b[0m\n",
            "\u001b[?25h  Building wheel for falkordb (pyproject.toml) ... \u001b[?25l\u001b[?25hdone\n"
          ]
        }
      ],
      "source": [
        "!pip install --quiet falkordb redis"
      ]
    },
    {
      "cell_type": "code",
      "execution_count": null,
      "metadata": {
        "id": "WJZnfkPKXa2I"
      },
      "outputs": [],
      "source": [
        "from langchain.chains import FalkorDBQAChain\n",
        "from langchain_community.graphs import FalkorDBGraph\n",
        "from langchain_openai import ChatOpenAI\n",
        "from langchain_groq import ChatGroq"
      ]
    },
    {
      "cell_type": "code",
      "execution_count": null,
      "metadata": {
        "id": "rcXWlmrO0aS6"
      },
      "outputs": [],
      "source": []
    },
    {
      "cell_type": "code",
      "execution_count": null,
      "metadata": {
        "id": "yIfv2GzZX_7T"
      },
      "outputs": [],
      "source": [
        "graph = FalkorDBGraph(database=\"movies\")"
      ]
    },
    {
      "cell_type": "code",
      "execution_count": null,
      "metadata": {
        "colab": {
          "base_uri": "https://localhost:8080/"
        },
        "id": "ryIg6We5wi2f",
        "outputId": "08a28a81-4508-46b3-8d25-a53b9c71b46f"
      },
      "outputs": [
        {
          "data": {
            "text/plain": [
              "[]"
            ]
          },
          "execution_count": 14,
          "metadata": {},
          "output_type": "execute_result"
        }
      ],
      "source": [
        "graph.query(\n",
        "    \"\"\"\n",
        "    CREATE\n",
        "        (al:Person {name: 'Al Pacino', birthDate: '1940-04-25'}),\n",
        "        (robert:Person {name: 'Robert De Niro', birthDate: '1943-08-17'}),\n",
        "        (tom:Person {name: 'Tom Cruise', birthDate: '1962-07-3'}),\n",
        "        (val:Person {name: 'Val Kilmer', birthDate: '1959-12-31'}),\n",
        "        (anthony:Person {name: 'Anthony Edwards', birthDate: '1962-7-19'}),\n",
        "        (meg:Person {name: 'Meg Ryan', birthDate: '1961-11-19'}),\n",
        "\n",
        "        (god1:Movie {title: 'The Godfather'}),\n",
        "        (god2:Movie {title: 'The Godfather: Part II'}),\n",
        "        (god3:Movie {title: 'The Godfather Coda: The Death of Michael Corleone'}),\n",
        "        (top:Movie {title: 'Top Gun'}),\n",
        "\n",
        "        (al)-[:ACTED_IN]->(god1),\n",
        "        (al)-[:ACTED_IN]->(god2),\n",
        "        (al)-[:ACTED_IN]->(god3),\n",
        "        (robert)-[:ACTED_IN]->(god2),\n",
        "        (tom)-[:ACTED_IN]->(top),\n",
        "        (val)-[:ACTED_IN]->(top),\n",
        "        (anthony)-[:ACTED_IN]->(top),\n",
        "        (meg)-[:ACTED_IN]->(top)\n",
        "\"\"\"\n",
        ")"
      ]
    },
    {
      "cell_type": "code",
      "execution_count": null,
      "metadata": {
        "colab": {
          "base_uri": "https://localhost:8080/"
        },
        "id": "f-frqB4TwnQC",
        "outputId": "4f1557df-37e3-4fa3-a878-78e1da0cc9b8"
      },
      "outputs": [
        {
          "name": "stdout",
          "output_type": "stream",
          "text": [
            "Node properties: [[OrderedDict([('label', 'Person'), ('keys', ['name', 'birthDate'])])], [OrderedDict([('label', 'Movie'), ('keys', ['title'])])]]\n",
            "Relationships properties: [[OrderedDict([('types', 'ACTED_IN'), ('keys', [])])]]\n",
            "Relationships: [[OrderedDict([('end', 'Movie'), ('start', 'Person'), ('type', 'ACTED_IN')])]]\n",
            "\n"
          ]
        }
      ],
      "source": [
        "graph.refresh_schema()\n",
        "print(graph.schema)\n",
        "\n",
        "import os"
      ]
    },
    {
      "cell_type": "code",
      "execution_count": null,
      "metadata": {
        "id": "Cp_9lIXWzuQB"
      },
      "outputs": [],
      "source": [
        "GROQ_API_KEY=#GROQ_API_KEY\n",
        "os.environ[\"GROQ_API_KEY\"]=GROQ_API_KEY"
      ]
    },
    {
      "cell_type": "code",
      "execution_count": null,
      "metadata": {
        "id": "7LkOx95XxBO2"
      },
      "outputs": [],
      "source": [
        "os.environ[\"OPENAI_API_KEY\"] = #OPENAI_API_KEY"
      ]
    },
    {
      "cell_type": "code",
      "execution_count": null,
      "metadata": {
        "id": "kESPzQz6XJrI"
      },
      "outputs": [],
      "source": [
        "llm=ChatGroq(temperature=0, model_name=\"mixtral-8x7b-32768\")"
      ]
    },
    {
      "cell_type": "code",
      "execution_count": null,
      "metadata": {
        "id": "C8BOEwWgwzU2"
      },
      "outputs": [],
      "source": [
        "chain = FalkorDBQAChain.from_llm(ChatGroq(temperature=0, model_name=\"mixtral-8x7b-32768\"), graph=graph, verbose=True, allow_dangerous_requests=True) # Setting allow_dangerous_requests to True"
      ]
    },
    {
      "cell_type": "code",
      "execution_count": null,
      "metadata": {
        "colab": {
          "base_uri": "https://localhost:8080/",
          "height": 262
        },
        "id": "owGUDOcxyKe0",
        "outputId": "f3a70b8f-5ac5-4b35-b60b-83677b6ba5ca"
      },
      "outputs": [
        {
          "name": "stderr",
          "output_type": "stream",
          "text": [
            "<ipython-input-19-982638b25926>:1: LangChainDeprecationWarning: The method `Chain.run` was deprecated in langchain 0.1.0 and will be removed in 1.0. Use :meth:`~invoke` instead.\n",
            "  chain.run(\"Who played in Top Gun?\")\n"
          ]
        },
        {
          "name": "stdout",
          "output_type": "stream",
          "text": [
            "\n",
            "\n",
            "\u001b[1m> Entering new FalkorDBQAChain chain...\u001b[0m\n",
            "Generated Cypher:\n",
            "\u001b[32;1m\u001b[1;3mMATCH (p:Person)-[:ACTED_IN]->(m:Movie)\n",
            "WHERE m.title = 'Top Gun'\n",
            "RETURN p.name\u001b[0m\n",
            "Full Context:\n",
            "\u001b[32;1m\u001b[1;3m[['Tom Cruise'], ['Val Kilmer'], ['Anthony Edwards'], ['Meg Ryan']]\u001b[0m\n",
            "\n",
            "\u001b[1m> Finished chain.\u001b[0m\n"
          ]
        },
        {
          "data": {
            "application/vnd.google.colaboratory.intrinsic+json": {
              "type": "string"
            },
            "text/plain": [
              "'Tom Cruise, Val Kilmer, and Anthony Edwards all played in Top Gun. Interestingly, Meg Ryan was also in the movie, although her role might not be as prominent in your memory.'"
            ]
          },
          "execution_count": 19,
          "metadata": {},
          "output_type": "execute_result"
        }
      ],
      "source": [
        "chain.run(\"Who played in Top Gun?\")"
      ]
    },
    {
      "cell_type": "code",
      "execution_count": null,
      "metadata": {
        "colab": {
          "base_uri": "https://localhost:8080/"
        },
        "id": "jm8mwJTsmQ3_",
        "outputId": "dbebc5ea-663b-436e-8887-9e90c2dca052"
      },
      "outputs": [
        {
          "name": "stdout",
          "output_type": "stream",
          "text": [
            "\u001b[?25l   \u001b[90m━━━━━━━━━━━━━━━━━━━━━━━━━━━━━━━━━━━━━━━━\u001b[0m \u001b[32m0.0/302.0 kB\u001b[0m \u001b[31m?\u001b[0m eta \u001b[36m-:--:--\u001b[0m\r\u001b[2K   \u001b[91m━━━━━━━━━━━━━━━━━━━━\u001b[0m\u001b[90m╺\u001b[0m\u001b[90m━━━━━━━━━━━━━━━━━━━\u001b[0m \u001b[32m153.6/302.0 kB\u001b[0m \u001b[31m4.5 MB/s\u001b[0m eta \u001b[36m0:00:01\u001b[0m\r\u001b[2K   \u001b[90m━━━━━━━━━━━━━━━━━━━━━━━━━━━━━━━━━━━━━━━━\u001b[0m \u001b[32m302.0/302.0 kB\u001b[0m \u001b[31m4.9 MB/s\u001b[0m eta \u001b[36m0:00:00\u001b[0m\n",
            "\u001b[?25h"
          ]
        }
      ],
      "source": [
        "%pip install --upgrade --quiet  langchain langchain-community langchain-openai langchain-experimental neo4j langgraph"
      ]
    },
    {
      "cell_type": "code",
      "execution_count": null,
      "metadata": {
        "id": "9h7W8Zg-mLJs"
      },
      "outputs": [],
      "source": [
        "import os\n",
        "from operator import add\n",
        "\n",
        "import re\n",
        "import ast\n",
        "import getpass\n",
        "from typing import List, Dict, Literal, Annotated\n",
        "from typing_extensions import TypedDict\n",
        "from IPython.display import Image, display\n",
        "from langgraph.graph import StateGraph, START, END\n",
        "from langchain_openai import ChatOpenAI, OpenAIEmbeddings\n",
        "from langchain_core.prompts import ChatPromptTemplate\n",
        "from langchain_core.output_parsers import StrOutputParser\n",
        "# from langchain_community.graphs import Neo4jGraph\n",
        "# from langchain_community.vectorstores import Neo4jVector\n",
        "# from langchain_community.vectorstores import FalkorDBVector\n",
        "\n",
        "from langchain.chains import FalkorDBQAChain\n",
        "from langchain_community.graphs import FalkorDBGraph\n",
        "\n",
        "from pydantic import BaseModel, Field"
      ]
    },
    {
      "cell_type": "code",
      "execution_count": null,
      "metadata": {
        "id": "NfHFanfGmEm4"
      },
      "outputs": [],
      "source": [
        "class InputState(TypedDict):\n",
        "    question: str\n",
        "\n",
        "class OutputState(TypedDict):\n",
        "    answer: str\n",
        "    analysis: str\n",
        "    previous_actions: List[str]\n",
        "\n",
        "class OverallState(TypedDict):\n",
        "    question: str\n",
        "    rational_plan: str\n",
        "    notebook: str\n",
        "    previous_actions: Annotated[List[str], add]\n",
        "    # check_atomic_facts_queue: List[str]\n",
        "    # check_chunks_queue: List[str]\n",
        "    # neighbor_check_queue: List[str]\n",
        "    # chosen_action: str"
      ]
    },
    {
      "cell_type": "code",
      "execution_count": null,
      "metadata": {
        "id": "BPqDjtLEmKd1"
      },
      "outputs": [],
      "source": [
        "def parse_function(input_str):\n",
        "    # Regular expression to capture the function name and arguments\n",
        "    pattern = r'(\\w+)(?:\\((.*)\\))?'\n",
        "\n",
        "    match = re.match(pattern, input_str)\n",
        "    if match:\n",
        "        function_name = match.group(1)  # Extract the function name\n",
        "        raw_arguments = match.group(2)  # Extract the arguments as a string\n",
        "        # If there are arguments, attempt to parse them\n",
        "        arguments = []\n",
        "        if raw_arguments:\n",
        "            try:\n",
        "                # Use ast.literal_eval to safely evaluate and convert the arguments\n",
        "                parsed_args = ast.literal_eval(f'({raw_arguments})')  # Wrap in tuple parentheses\n",
        "                # Ensure it's always treated as a tuple even with a single argument\n",
        "                arguments = list(parsed_args) if isinstance(parsed_args, tuple) else [parsed_args]\n",
        "            except (ValueError, SyntaxError):\n",
        "                # In case of failure to parse, return the raw argument string\n",
        "                arguments = [raw_arguments.strip()]\n",
        "\n",
        "\n",
        "        return {\n",
        "            'function_name': function_name,\n",
        "            'arguments': arguments\n",
        "        }\n",
        "    else:\n",
        "        return None"
      ]
    },
    {
      "cell_type": "code",
      "execution_count": null,
      "metadata": {
        "id": "hlKWYvmelTVD"
      },
      "outputs": [],
      "source": [
        "class MovieFactOutput(BaseModel):\n",
        "    updated_notebook: str = Field(description=\"\"\"First, combine your current notebook with new insights and findings about\n",
        "the question from current movie facts, creating a more complete version of the notebook that\n",
        "contains more valid information.\"\"\")\n",
        "    rational_next_action: str = Field(description=\"\"\"Based on the given question, the rational plan, previous actions, and\n",
        "notebook content, analyze how to choose the next action.\"\"\")\n",
        "    chosen_action: str = Field(description=\"\"\"1. read_movie(List[ID]): Choose this action if you believe that a movie linked to a fact may hold the necessary information to answer the question. This will allow you to access\n",
        "more complete and detailed information.\n",
        "2. stop_and_read_neighbor(): Choose this action if you ascertain that all movies lack valuable\n",
        "information.\"\"\")\n",
        "\n",
        "movie_fact_check_prompt = ChatPromptTemplate.from_messages(\n",
        "    [\n",
        "        (\n",
        "            \"system\",\n",
        "            \"\"\"\n",
        "            As an intelligent assistant, your primary objective is to answer questions based on information\n",
        "            contained within a movie database. To facilitate this objective, a graph has been created,\n",
        "            comprising the following elements:\n",
        "            1. People: Actors, their birthdates, and their relationships.\n",
        "            2. Movies: Titles and their connections with actors.\n",
        "            3. Facts: Smallest, indivisible truths extracted from the database relationships.\n",
        "\n",
        "            Given the question, your tasks include analyzing nodes, determining the next step, and maintaining a notebook for findings.\n",
        "\n",
        "            Action Options:\n",
        "            1. read_movie(List[ID]): Access movies linked to a fact for detailed information.\n",
        "            2. stop_and_read_neighbor(): Skip unrelated movies, and analyze related nodes.\n",
        "            \"\"\",\n",
        "        ),\n",
        "        (\n",
        "            \"human\",\n",
        "            (\n",
        "                \"\"\"Question: {question}\n",
        "\n",
        "                Movie facts: {movie_facts}\"\"\"\n",
        "            ),\n",
        "        ),\n",
        "    ]\n",
        ")\n",
        "\n",
        "movie_fact_chain = movie_fact_check_prompt | llm.with_structured_output(MovieFactOutput)\n",
        "\n",
        "def get_movie_facts(key_elements: List[str]) -> List[Dict[str, str]]:\n",
        "    chain = FalkorDBQAChain.from_llm(llm, graph=graph, verbose=True, allow_dangerous_requests=True)\n",
        "    data=chain.invoke(key_elements)\n",
        "    # print(f\"Actors: {key_elements}\")\n",
        "    # data = graph.query(\"\"\"\n",
        "    # MATCH (p:Person)-[:ACTED_IN]->(m:Movie)\n",
        "    # WHERE p.name IN $key_elements\n",
        "    # RETURN DISTINCT m.title AS movie_title, p.name AS actor_name\n",
        "    # \"\"\", params={\"key_elements\": key_elements})\n",
        "    return data\n",
        "\n",
        "\n",
        "def movie_fact_check(state: OverallState) -> OverallState:\n",
        "    movie_facts = get_movie_facts([state.get(\"question\")])\n",
        "    print(state.get(\"question\"),movie_facts)\n",
        "    print(\"-\" * 20)\n",
        "    print(f\"Step: movie_fact_check\")\n",
        "    print(f\"Reading movie facts about: {state.get('question')}\")\n",
        "    movie_facts_results = movie_fact_chain.invoke(\n",
        "        {\n",
        "            \"question\": state.get(\"question\"),\n",
        "            \"movie_facts\": movie_facts,\n",
        "        }\n",
        "    )\n",
        "    print(movie_facts_results)\n",
        "    notebook = movie_facts_results.updated_notebook\n",
        "    print(f\"Rational for next action after movie check: {movie_facts_results.rational_next_action}\")\n",
        "    chosen_action = parse_function(movie_facts_results.chosen_action)\n",
        "    print(f\"Chosen action: {chosen_action}\")\n",
        "    response = {\n",
        "        \"notebook\": notebook,\n",
        "        \"chosen_action\": chosen_action.get(\"function_name\"),\n",
        "        \"check_movie_facts_queue\": [],\n",
        "        \"previous_actions\": [\n",
        "            f\"movie_fact_check({state.get('check_movie_facts_queue')})\"\n",
        "        ],\n",
        "    }\n",
        "    return response\n"
      ]
    },
    {
      "cell_type": "code",
      "execution_count": null,
      "metadata": {
        "colab": {
          "base_uri": "https://localhost:8080/",
          "height": 251
        },
        "id": "_ibzgJUvZsEd",
        "outputId": "1a77f231-2668-4b36-ae8e-805b3b1bc09f"
      },
      "outputs": [
        {
          "data": {
            "image/png": "[encoded data removed]",
            "text/plain": [
              "<IPython.core.display.Image object>"
            ]
          },
          "metadata": {},
          "output_type": "display_data"
        }
      ],
      "source": [
        "movie_graph = StateGraph(OverallState, input=InputState, output=OutputState)\n",
        "# movie_graph.add_node(rational_plan_node)\n",
        "# movie_graph.add_node(initial_node_selection)\n",
        "movie_graph.add_node(movie_fact_check)\n",
        "# movie_graph.add_node(movie_check)\n",
        "# movie_graph.add_node(answer_reasoning)\n",
        "# movie_graph.add_node(neighbor_select)\n",
        "\n",
        "movie_graph.add_edge(START, \"movie_fact_check\")\n",
        "# movie_graph.add_edge(\"rational_plan_node\", \"initial_node_selection\")\n",
        "# movie_graph.add_edge(\"movie_fact_check\", \"movie_fact_check\")\n",
        "# movie_graph.add_conditional_edges(\n",
        "#     \"movie_fact_check\",\n",
        "#     movie_fact_condition,  # Updated condition function for movie context\n",
        "# )\n",
        "# movie_graph.add_conditional_edges(\n",
        "#     \"movie_check\",\n",
        "#     chunk_condition,  # If further conditions are needed for movie chunks\n",
        "# )\n",
        "# movie_graph.add_conditional_edges(\n",
        "#     \"neighbor_select\",\n",
        "#     neighbor_condition,  # For selecting neighbors in movie context\n",
        "# )\n",
        "movie_graph.add_edge(\"movie_fact_check\", END)\n",
        "\n",
        "movie_graph = movie_graph.compile()\n",
        "\n",
        "# View\n",
        "display(Image(movie_graph.get_graph().draw_mermaid_png()))\n"
      ]
    },
    {
      "cell_type": "code",
      "execution_count": null,
      "metadata": {
        "colab": {
          "base_uri": "https://localhost:8080/"
        },
        "id": "M8DJ_9Zfu5Xf",
        "outputId": "836c90e5-a458-4d4a-9964-ff0bfe348ea3"
      },
      "outputs": [
        {
          "name": "stdout",
          "output_type": "stream",
          "text": [
            "\n",
            "\n",
            "\u001b[1m> Entering new FalkorDBQAChain chain...\u001b[0m\n",
            "Generated Cypher:\n",
            "\u001b[32;1m\u001b[1;3mMATCH (p:Person)-[:ACTED_IN]->(m:Movie)\n",
            "WHERE p.name = 'Al Pacino'\n",
            "RETURN m.title\u001b[0m\n",
            "Full Context:\n",
            "\u001b[32;1m\u001b[1;3m[['The Godfather'], ['The Godfather: Part II'], ['The Godfather Coda: The Death of Michael Corleone'], ['The Godfather'], ['The Godfather: Part II'], ['The Godfather Coda: The Death of Michael Corleone']]\u001b[0m\n",
            "\n",
            "\u001b[1m> Finished chain.\u001b[0m\n",
            "{'query': ['Al Pacino'], 'result': 'I believe Al Pacino starred in The Godfather, The Godfather: Part II, and The Godfather Coda: The Death of Michael Corleone.'}\n"
          ]
        }
      ],
      "source": [
        "facts = get_movie_facts([\"Al Pacino\"])\n",
        "print(facts)"
      ]
    },
    {
      "cell_type": "code",
      "execution_count": null,
      "metadata": {
        "id": "yYTm1no3u9g5"
      },
      "outputs": [],
      "source": [
        "# neighbors = get_neighbors_by_actor([\"Tom Cruise\"])\n",
        "# print(neighbors)"
      ]
    },
    {
      "cell_type": "code",
      "execution_count": null,
      "metadata": {
        "colab": {
          "base_uri": "https://localhost:8080/"
        },
        "id": "BiBBq9LWvAlF",
        "outputId": "4a59ac3f-96e8-47ae-f024-b4de5de53bfa"
      },
      "outputs": [
        {
          "name": "stdout",
          "output_type": "stream",
          "text": [
            "\n",
            "\n",
            "\u001b[1m> Entering new FalkorDBQAChain chain...\u001b[0m\n",
            "Generated Cypher:\n",
            "\u001b[32;1m\u001b[1;3mMATCH (p:Person)-[:ACTED_IN]->(m:Movie)\n",
            "WHERE m.title = 'Top Gun'\n",
            "RETURN p.name\u001b[0m\n",
            "Full Context:\n",
            "\u001b[32;1m\u001b[1;3m[['Tom Cruise'], ['Val Kilmer'], ['Anthony Edwards'], ['Meg Ryan'], ['Tom Cruise'], ['Val Kilmer'], ['Anthony Edwards'], ['Meg Ryan']]\u001b[0m\n",
            "\n",
            "\u001b[1m> Finished chain.\u001b[0m\n",
            "Top Gun {'query': ['Top Gun'], 'result': 'I believe the cast of Top Gun includes Tom Cruise, Val Kilmer, Anthony Edwards, and Meg Ryan. It seems that all four of them were part of the movie.'}\n",
            "--------------------\n",
            "Step: movie_fact_check\n",
            "Reading movie facts about: Top Gun\n",
            "updated_notebook='Notebook updated with the cast of Top Gun: Tom Cruise, Val Kilmer, Anthony Edwards, and Meg Ryan.' rational_next_action='Analyze the cast of Top Gun to find relevant information.' chosen_action='read_movie'\n",
            "Rational for next action after movie check: Analyze the cast of Top Gun to find relevant information.\n",
            "Chosen action: {'function_name': 'read_movie', 'arguments': []}\n",
            "{'notebook': 'Notebook updated with the cast of Top Gun: Tom Cruise, Val Kilmer, Anthony Edwards, and Meg Ryan.', 'chosen_action': 'read_movie', 'check_movie_facts_queue': [], 'previous_actions': ['movie_fact_check(None)']}\n"
          ]
        }
      ],
      "source": [
        "state = {\n",
        "    \"question\": \"Top Gun\",\n",
        "    # \"rational_plan\": \"Fetch movies linked to Al Pacino.\",\n",
        "    # \"notebook\": \"\",\n",
        "    # \"previous_actions\": [],\n",
        "    # \"check_movie_facts_queue\": [\"Al Pacino\"],\n",
        "}\n",
        "response = movie_fact_check(state)\n",
        "print(response)\n"
      ]
    },
    {
      "cell_type": "code",
      "execution_count": null,
      "metadata": {
        "colab": {
          "base_uri": "https://localhost:8080/"
        },
        "id": "YsWiTp8MaFZB",
        "outputId": "a7a579e7-08e3-4a5c-9713-a0f9482c3270"
      },
      "outputs": [
        {
          "name": "stdout",
          "output_type": "stream",
          "text": [
            "\n",
            "\n",
            "\u001b[1m> Entering new FalkorDBQAChain chain...\u001b[0m\n",
            "Generated Cypher:\n",
            "\u001b[32;1m\u001b[1;3mMATCH (p:Person)-[:ACTED_IN]->(m:Movie)\n",
            "WHERE m.title = 'Top Gun'\n",
            "RETURN p.name\u001b[0m\n",
            "Full Context:\n",
            "\u001b[32;1m\u001b[1;3m[['Tom Cruise'], ['Val Kilmer'], ['Anthony Edwards'], ['Meg Ryan'], ['Tom Cruise'], ['Val Kilmer'], ['Anthony Edwards'], ['Meg Ryan']]\u001b[0m\n",
            "\n",
            "\u001b[1m> Finished chain.\u001b[0m\n",
            "Who played in Top Gun? {'query': ['Who played in Top Gun?'], 'result': 'Tom Cruise, Val Kilmer, and Anthony Edwards all played in Top Gun, as well as Meg Ryan.'}\n",
            "--------------------\n",
            "Step: movie_fact_check\n",
            "Reading movie facts about: Who played in Top Gun?\n",
            "updated_notebook=\"Previously, the notebook contained the question: 'Who played in Top Gun?'. Now, the notebook is updated with the movie's title: Top Gun.\" rational_next_action=\"The question asks for the actors in the movie Top Gun. To answer this question, we need to access the movie's details. Therefore, the chosen action is 'read_movie'.\" chosen_action='read_movie'\n",
            "Rational for next action after movie check: The question asks for the actors in the movie Top Gun. To answer this question, we need to access the movie's details. Therefore, the chosen action is 'read_movie'.\n",
            "Chosen action: {'function_name': 'read_movie', 'arguments': []}\n"
          ]
        },
        {
          "data": {
            "text/plain": [
              "{'previous_actions': ['movie_fact_check(None)']}"
            ]
          },
          "execution_count": 188,
          "metadata": {},
          "output_type": "execute_result"
        }
      ],
      "source": [
        "movie_graph.invoke({\"question\": \"Who played in Top Gun?\"})"
      ]
    }
  ],
  "metadata": {
    "colab": {
      "provenance": [],
      "toc_visible": true
    },
    "kernelspec": {
      "display_name": "Python 3",
      "name": "python3"
    },
    "language_info": {
      "name": "python"
    }
  },
  "nbformat": 4,
  "nbformat_minor": 0
}
